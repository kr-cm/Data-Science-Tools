{
 "cells": [
  {
   "cell_type": "markdown",
   "id": "1b3ce7bb-7dd9-4d57-bb3c-602df18987e4",
   "metadata": {},
   "source": [
    "# Data Science Tools and Ecosystem"
   ]
  },
  {
   "cell_type": "markdown",
   "id": "167425ba-d300-4f37-ba3c-f7a76f23e5a9",
   "metadata": {},
   "source": [
    "## In this notebook, Data Science Tools and Ecosystem are summarized."
   ]
  },
  {
   "cell_type": "markdown",
   "id": "5d1967da-77b2-4b2a-af97-352ed2b00e00",
   "metadata": {},
   "source": [
    "### **Objectives:**\n",
    "- List popular languages for data science\n",
    "- Exemplify data science libraries\n",
    "- Show arithmetic expressions using Python"
   ]
  },
  {
   "cell_type": "markdown",
   "id": "96e530e4-9721-444a-b9f9-545342831cdf",
   "metadata": {},
   "source": [
    "### Some of the popular languages that Data Scientists use are:\n",
    "1. Python\n",
    "2. R\n",
    "3. SQL\n",
    "### Some of the commonly used libraries used by Data Scientists include:\n",
    "1. TensorFlow\n",
    "2. NumPy\n",
    "3. Pandas"
   ]
  },
  {
   "cell_type": "markdown",
   "id": "467d4aa8-69b3-4b79-a6ba-59b198b313fe",
   "metadata": {},
   "source": [
    "|Data Science Tools|\n",
    "|-------------|\n",
    "|Jupyter Notebook|\n",
    "|Apache Spark|\n",
    "|RStudio|"
   ]
  },
  {
   "cell_type": "markdown",
   "id": "efcd2b1c-b8db-45ec-aae1-359f070d7e83",
   "metadata": {},
   "source": [
    "### Below are a few examples of evaluating arithmetic expressions in Python"
   ]
  },
  {
   "cell_type": "code",
   "execution_count": 15,
   "id": "1e75658e-6e5e-4a5b-b2c2-4ac5bf839732",
   "metadata": {},
   "outputs": [
    {
     "data": {
      "text/plain": [
       "17"
      ]
     },
     "execution_count": 15,
     "metadata": {},
     "output_type": "execute_result"
    }
   ],
   "source": [
    "# This a simple arithmetic expression to multiply then add integers:\n",
    "(3*4)+5"
   ]
  },
  {
   "cell_type": "code",
   "execution_count": 16,
   "id": "fc51c9d3-8d1b-43a4-a288-5dd78616bf9d",
   "metadata": {},
   "outputs": [
    {
     "data": {
      "text/plain": [
       "3.3333333333333335"
      ]
     },
     "execution_count": 16,
     "metadata": {},
     "output_type": "execute_result"
    }
   ],
   "source": [
    "# This will convert 200 minutes to hours by diving by 60\n",
    "200/60"
   ]
  },
  {
   "cell_type": "markdown",
   "id": "5de37630-333b-4c70-92c5-24140f30e462",
   "metadata": {},
   "source": [
    "## Author\n",
    "Kyra"
   ]
  },
  {
   "cell_type": "code",
   "execution_count": null,
   "id": "bfe56838-a563-4294-9756-664585a75709",
   "metadata": {},
   "outputs": [],
   "source": []
  }
 ],
 "metadata": {
  "kernelspec": {
   "display_name": "Python [conda env:base] *",
   "language": "python",
   "name": "conda-base-py"
  },
  "language_info": {
   "codemirror_mode": {
    "name": "ipython",
    "version": 3
   },
   "file_extension": ".py",
   "mimetype": "text/x-python",
   "name": "python",
   "nbconvert_exporter": "python",
   "pygments_lexer": "ipython3",
   "version": "3.12.7"
  }
 },
 "nbformat": 4,
 "nbformat_minor": 5
}
